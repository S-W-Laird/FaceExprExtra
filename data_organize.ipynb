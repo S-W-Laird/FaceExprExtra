{
 "cells": [
  {
   "cell_type": "markdown",
   "metadata": {},
   "source": [
    "# Data organization"
   ]
  },
  {
   "cell_type": "code",
   "execution_count": null,
   "metadata": {},
   "outputs": [],
   "source": [
    "import os\n",
    "import shutil\n",
    "import torch\n",
    "import torch.nn as nn\n",
    "from torch.utils.data import TensorDataset, DataLoader\n",
    "from torchvision import transforms\n",
    "from torchvision.datasets import ImageFolder\n",
    "import timm\n",
    "import numpy as np\n",
    "from tqdm import tqdm\n",
    "from sklearn.metrics import accuracy_score, f1_score\n",
    "from sklearn.model_selection import train_test_split"
   ]
  },
  {
   "cell_type": "markdown",
   "metadata": {},
   "source": [
    "## 1. 下载数据\n",
    "\n",
    "https://www.kaggle.com/datasets/cihan063/autism-image-data/data 直接下载 zip 文件  \n",
    "或者运行"
   ]
  },
  {
   "cell_type": "code",
   "execution_count": null,
   "metadata": {},
   "outputs": [],
   "source": [
    "# import kagglehub\n",
    "\n",
    "# # Download latest version\n",
    "# path = kagglehub.dataset_download(\"cihan063/autism-image-data\")\n",
    "\n",
    "# print(\"Path to dataset files:\", path)"
   ]
  },
  {
   "cell_type": "markdown",
   "metadata": {},
   "source": [
    "原始数据目录组织为：\n",
    "```\n",
    "AutismDataset/consolidated/  \n",
    "    ├── Autistic/  \n",
    "    │   0001.jpg  \n",
    "    │   0002.jpg  \n",
    "    │   ...  \n",
    "    └── Non_Autistic/  \n",
    "        0001.jpg  \n",
    "        0002.jpg  \n",
    "        ...  \n",
    "```"
   ]
  },
  {
   "cell_type": "markdown",
   "metadata": {},
   "source": [
    "## 2. 将图像拆分为 train/val/test 集\n"
   ]
  },
  {
   "cell_type": "code",
   "execution_count": null,
   "metadata": {},
   "outputs": [],
   "source": [
    "data_dir = '/PathToYourData/AutismDataset/consolidated'\n",
    "class_names = ['Autistic', 'Non_Autistic']\n",
    "\n",
    "organized_dir = '/PathToYourData/AutismDataset/split_data'\n",
    "os.makedirs(organized_dir, exist_ok=True)\n",
    "\n",
    "train_dir = os.path.join(organized_dir, 'train')\n",
    "val_dir = os.path.join(organized_dir, 'val')\n",
    "test_dir = os.path.join(organized_dir, 'test')\n",
    "\n",
    "for split_dir in [train_dir, val_dir, test_dir]:\n",
    "    for class_name in class_names:\n",
    "        os.makedirs(os.path.join(split_dir, class_name), exist_ok=True)\n",
    "\n",
    "def organize_class_images(src_class_dir, dest_train_dir, dest_val_dir, dest_test_dir, test_size=0.2, val_size=0.2):\n",
    "    image_files = [f for f in os.listdir(src_class_dir) if f.lower().endswith(('.jpg', '.jpeg', '.png'))]\n",
    "\n",
    "    train_files, test_files = train_test_split(image_files, test_size=test_size, random_state=42)\n",
    "    train_files, val_files = train_test_split(train_files, test_size=val_size, random_state=42)\n",
    "    \n",
    "    for file in train_files:\n",
    "        shutil.copy(os.path.join(src_class_dir, file), os.path.join(dest_train_dir, file))\n",
    "    for file in val_files:\n",
    "        shutil.copy(os.path.join(src_class_dir, file), os.path.join(dest_val_dir, file))\n",
    "    for file in test_files:\n",
    "        shutil.copy(os.path.join(src_class_dir, file), os.path.join(dest_test_dir, file))\n",
    "\n",
    "for class_name in class_names:\n",
    "    src_class_dir = os.path.join(data_dir, class_name)\n",
    "    dest_train_dir = os.path.join(train_dir, class_name)\n",
    "    dest_val_dir = os.path.join(val_dir, class_name)\n",
    "    dest_test_dir = os.path.join(test_dir, class_name)\n",
    "    \n",
    "    organize_class_images(src_class_dir, dest_train_dir, dest_val_dir, dest_test_dir)"
   ]
  }
 ],
 "metadata": {
  "kernelspec": {
   "display_name": "torch124",
   "language": "python",
   "name": "python3"
  },
  "language_info": {
   "codemirror_mode": {
    "name": "ipython",
    "version": 3
   },
   "file_extension": ".py",
   "mimetype": "text/x-python",
   "name": "python",
   "nbconvert_exporter": "python",
   "pygments_lexer": "ipython3",
   "version": "3.10.16"
  }
 },
 "nbformat": 4,
 "nbformat_minor": 2
}
